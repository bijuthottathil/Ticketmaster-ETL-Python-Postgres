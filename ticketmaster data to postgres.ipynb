{
 "cells": [
  {
   "cell_type": "code",
   "execution_count": 1,
   "metadata": {},
   "outputs": [],
   "source": [
    "import requests\n",
    "import pandas as pd"
   ]
  },
  {
   "cell_type": "code",
   "execution_count": 2,
   "metadata": {},
   "outputs": [],
   "source": [
    "url=\"https://app.ticketmaster.com/discovery/v2/events.json?keyword=music&source=universe&countryCode=US&apikey=bRMRV4SYZhwGJnvZJxjoEFtGCTUKKFl7\"\n",
    "#url=\"https://app.ticketmaster.com/discovery/v2/events.json?classificationName=music&dmaId=324&apikey=bRMRV4SYZhwGJnvZJxjoEFtGCTUKKFl7\"\n",
    "#url=\"https://app.ticketmaster.com/discovery/v2/events.json?countryCode=US&apikey=bRMRV4SYZhwGJnvZJxjoEFtGCTUKKFl7\"\n",
    "response=requests.get(url)"
   ]
  },
  {
   "cell_type": "code",
   "execution_count": 3,
   "metadata": {},
   "outputs": [],
   "source": [
    "if response.status_code == 200:\n",
    "    json_data = response.json()  # Parse the JSON response\n",
    "else:\n",
    "    print(f\"Error: {response.status_code}\")\n",
    "    json_data = None"
   ]
  },
  {
   "cell_type": "code",
   "execution_count": 4,
   "metadata": {},
   "outputs": [],
   "source": [
    "events_df = pd.json_normalize(\n",
    "    json_data['_embedded']['events'], \n",
    "    meta=['name', 'url', ['sales', 'public', 'startDateTime'], ['sales', 'public', 'endDateTime']]\n",
    ")"
   ]
  },
  {
   "cell_type": "code",
   "execution_count": 5,
   "metadata": {},
   "outputs": [
    {
     "name": "stdout",
     "output_type": "stream",
     "text": [
      "                                              name  \\\n",
      "0                                Acadia Music Fest   \n",
      "1                   Tacos & Tequila Music Festival   \n",
      "2                 Dry Diggings Music Festival 2024   \n",
      "3                Five Winds Country Music Festival   \n",
      "4             Rushsouth Music and Outdoor Festival   \n",
      "5   Old School Throwback Juneteenth Music Festival   \n",
      "6       Southern Soul 2 Step Music & Laughter Tour   \n",
      "7                           Raiding the Rock Vault   \n",
      "8                           Raiding the Rock Vault   \n",
      "9                           Raiding the Rock Vault   \n",
      "10                          Raiding the Rock Vault   \n",
      "11                          Raiding the Rock Vault   \n",
      "12                          Raiding the Rock Vault   \n",
      "13                          Raiding the Rock Vault   \n",
      "14                          Raiding the Rock Vault   \n",
      "15                          Raiding the Rock Vault   \n",
      "16                          Raiding the Rock Vault   \n",
      "17                          Raiding the Rock Vault   \n",
      "18                          Raiding the Rock Vault   \n",
      "19                          Raiding the Rock Vault   \n",
      "\n",
      "                                                  url  \\\n",
      "0   https://www.universe.com/events/acadia-music-f...   \n",
      "1   https://www.universe.com/events/tacos-tequila-...   \n",
      "2   https://www.universe.com/events/dry-diggings-m...   \n",
      "3   https://www.universe.com/events/five-winds-cou...   \n",
      "4   https://www.universe.com/events/rushsouth-musi...   \n",
      "5   https://www.universe.com/events/old-school-thr...   \n",
      "6   https://www.universe.com/events/southern-soul-...   \n",
      "7   https://www.universe.com/events/raiding-the-ro...   \n",
      "8   https://www.universe.com/events/raiding-the-ro...   \n",
      "9   https://www.universe.com/events/raiding-the-ro...   \n",
      "10  https://www.universe.com/events/raiding-the-ro...   \n",
      "11  https://www.universe.com/events/raiding-the-ro...   \n",
      "12  https://www.universe.com/events/raiding-the-ro...   \n",
      "13  https://www.universe.com/events/raiding-the-ro...   \n",
      "14  https://www.universe.com/events/raiding-the-ro...   \n",
      "15  https://www.universe.com/events/raiding-the-ro...   \n",
      "16  https://www.universe.com/events/raiding-the-ro...   \n",
      "17  https://www.universe.com/events/raiding-the-ro...   \n",
      "18  https://www.universe.com/events/raiding-the-ro...   \n",
      "19  https://www.universe.com/events/raiding-the-ro...   \n",
      "\n",
      "   sales.public.startDateTime sales.public.endDateTime  \n",
      "0        2024-06-21T05:00:00Z     2024-10-20T04:30:00Z  \n",
      "1        2024-07-19T13:00:00Z     2024-09-30T03:00:00Z  \n",
      "2        2023-09-11T16:49:32Z     2024-08-26T06:00:00Z  \n",
      "3        2024-05-20T15:00:00Z     2024-10-13T05:00:00Z  \n",
      "4        2024-07-05T14:00:00Z     2024-10-13T03:00:00Z  \n",
      "5        2024-06-21T15:26:35Z     2025-06-23T04:00:00Z  \n",
      "6        2024-07-20T05:00:00Z     2024-09-15T05:00:00Z  \n",
      "7        2023-02-17T15:40:58Z     2024-08-21T04:30:00Z  \n",
      "8        2023-02-17T15:40:58Z     2024-08-28T04:30:00Z  \n",
      "9        2023-02-17T15:40:58Z     2024-09-01T04:30:00Z  \n",
      "10       2023-02-17T15:40:58Z     2024-09-08T04:30:00Z  \n",
      "11       2023-02-17T15:40:58Z     2024-09-11T04:30:00Z  \n",
      "12       2023-02-17T15:40:58Z     2024-09-13T04:30:00Z  \n",
      "13       2023-02-17T15:40:58Z     2024-09-15T04:30:00Z  \n",
      "14       2023-02-17T15:40:58Z     2024-09-18T04:30:00Z  \n",
      "15       2023-02-17T15:40:58Z     2024-09-20T04:30:00Z  \n",
      "16       2023-02-17T15:40:58Z     2024-09-22T04:30:00Z  \n",
      "17       2023-02-17T15:40:58Z     2024-09-25T04:30:00Z  \n",
      "18       2023-02-17T15:40:58Z     2024-09-27T04:30:00Z  \n",
      "19       2023-02-17T15:40:58Z     2024-10-02T04:30:00Z  \n"
     ]
    }
   ],
   "source": [
    "events_df = events_df[['name', 'url', 'sales.public.startDateTime', 'sales.public.endDateTime']]\n",
    "\n",
    "# Display the DataFrame\n",
    "print(events_df)"
   ]
  },
  {
   "cell_type": "code",
   "execution_count": 6,
   "metadata": {},
   "outputs": [],
   "source": [
    "events_df.columns = ['EventName', 'EventURL', 'SalesStartDate', 'SalesEndDate']"
   ]
  },
  {
   "cell_type": "code",
   "execution_count": 7,
   "metadata": {},
   "outputs": [
    {
     "name": "stdout",
     "output_type": "stream",
     "text": [
      "successful\n"
     ]
    }
   ],
   "source": [
    "# connecting to postgresql\n",
    "import sqlalchemy as sa\n",
    "\n",
    "user = 'postgres'\n",
    "host = 'localhost'\n",
    "password = 'postgres'\n",
    "port = '5432'\n",
    "database = 'learning'\n",
    "\n",
    "conn_string = f'postgresql+psycopg2://{user}:{password}@{host}:{port}/{database}'\n",
    "    \n",
    "engine = sa.create_engine(conn_string)\n",
    "\n",
    "try:\n",
    "    with engine.connect() as connections:\n",
    "        print('successful')\n",
    "except Exception as e:\n",
    "    print(f'failed: {e}')"
   ]
  },
  {
   "cell_type": "code",
   "execution_count": 8,
   "metadata": {},
   "outputs": [
    {
     "data": {
      "text/plain": [
       "20"
      ]
     },
     "execution_count": 8,
     "metadata": {},
     "output_type": "execute_result"
    }
   ],
   "source": [
    "events_df.to_sql('events_df', con=engine.connect(), schema='public', index=False, if_exists='replace')"
   ]
  }
 ],
 "metadata": {
  "kernelspec": {
   "display_name": "venv",
   "language": "python",
   "name": "venv"
  },
  "language_info": {
   "codemirror_mode": {
    "name": "ipython",
    "version": 3
   },
   "file_extension": ".py",
   "mimetype": "text/x-python",
   "name": "python",
   "nbconvert_exporter": "python",
   "pygments_lexer": "ipython3",
   "version": "3.11.0"
  }
 },
 "nbformat": 4,
 "nbformat_minor": 2
}
